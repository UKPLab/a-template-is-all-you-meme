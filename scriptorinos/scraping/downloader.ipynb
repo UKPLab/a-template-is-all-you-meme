{
 "cells": [
  {
   "cell_type": "code",
   "execution_count": null,
   "metadata": {},
   "outputs": [],
   "source": [
    "import time\n",
    "import os\n",
    "\n",
    "from selenium import webdriver\n",
    "from webdriver_manager.chrome import ChromeDriverManager\n",
    "\n",
    "\n",
    "from selenium.webdriver.common.keys import Keys\n",
    "driver = webdriver.Chrome(ChromeDriverManager().install())\n",
    "\n",
    "browser = webdriver.Chrome()\n",
    "\n",
    "snapshots = 'selenium_snapshots'\n",
    "browser.get(\"https://knowyourmeme.com/memes\")\n",
    "time.sleep(1)\n",
    "\n",
    "elem = browser.find_element(\"name\", 'q')\n",
    "\n",
    "no_of_pagedowns = 5000\n",
    "\n",
    "if not os.path.exists(snapshots):\n",
    "    os.makedirs(snapshots)\n",
    "\n",
    "while no_of_pagedowns:\n",
    "    elem.send_keys(Keys.PAGE_DOWN)\n",
    "    time.sleep(0.2)\n",
    "    html_source = browser.page_source\n",
    "    if no_of_pagedowns%100 == 0:\n",
    "        with open('{}/{}_basecontent.html'.format(snapshots, no_of_pagedowns), 'wb+') as f:\n",
    "            f.write(html_source.encode())\n",
    "    no_of_pagedowns-=1\n",
    "\n",
    "with open('{}/{}_basecontent.html'.format(snapshots, no_of_pagedowns), 'wb+') as f:\n",
    "            f.write(html_source.encode())"
   ]
  },
  {
   "cell_type": "code",
   "execution_count": 12,
   "metadata": {},
   "outputs": [],
   "source": [
    "with open('{}/{}_basecontent.html'.format(snapshots, no_of_pagedowns), 'wb+') as f:\n",
    "            f.write(html_source.encode())"
   ]
  },
  {
   "cell_type": "code",
   "execution_count": null,
   "metadata": {},
   "outputs": [],
   "source": []
  }
 ],
 "metadata": {
  "kernelspec": {
   "display_name": "base",
   "language": "python",
   "name": "python3"
  },
  "language_info": {
   "codemirror_mode": {
    "name": "ipython",
    "version": 3
   },
   "file_extension": ".py",
   "mimetype": "text/x-python",
   "name": "python",
   "nbconvert_exporter": "python",
   "pygments_lexer": "ipython3",
   "version": "3.10.11"
  },
  "orig_nbformat": 4
 },
 "nbformat": 4,
 "nbformat_minor": 2
}
